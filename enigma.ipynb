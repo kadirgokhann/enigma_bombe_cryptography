{
 "cells": [
  {
   "cell_type": "markdown",
   "metadata": {},
   "source": [
    "Hello WW2 enthusiasts,\n",
    "\n",
    "This is a brief overview of the Enigma machine. The Enigma was a cipher device used by the Germans during World War II to encrypt and decrypt messages. It allowed the German military to communicate securely and secretly. Although the Enigma machine was considered unbreakable during the war, the British managed to crack the code, playing a crucial role in the Allied victory.\n",
    "\n",
    "To better understand how it worked, I recommend watching this video: https://www.youtube.com/watch?v=ybkkiGtJmkM."
   ]
  },
  {
   "cell_type": "code",
   "execution_count": 109,
   "metadata": {},
   "outputs": [],
   "source": [
    "import copy\n",
    "class Enigma:\n",
    "    def __init__(self, rotor_positions, plugboard_settings=None):\n",
    "        # Realistic rotor wirings for I, II, III (historically accurate, but not the only possible wirings)\n",
    "        # they are taken from https://en.wikipedia.org/wiki/Enigma_rotor_details\n",
    "        # These rotors represent the wiring of the rotors in the Enigma I machine.\n",
    "        self.rotor_I   = [4, 10, 12, 5, 11, 6, 3, 16, 21, 25, 13, 19, 14, 22, 24, 7, 23, 20, 18, 15, 0, 8, 1, 17, 2, 9] # left\n",
    "        self.rotor_II  = [0, 9, 3, 10, 18, 8, 17, 20, 23, 1, 11, 7, 22, 19, 12, 2, 16, 6, 25, 13, 15, 24, 5, 21, 14, 4] # middle\n",
    "        self.rotor_III = [1, 3, 5, 7, 9, 11, 2, 15, 17, 19, 23, 21, 25, 13, 24, 4, 8, 22, 6, 0, 10, 12, 20, 18, 16, 14] # right\n",
    "        self.rotors    = [self.rotor_I, self.rotor_II, self.rotor_III]\n",
    "        # They are the index of the letter in the alphabet that is connected to the letter at the index.\n",
    "        # When you pass a letter through the rotor, the letter is transformed into the letter at the index. We will see...\n",
    "\n",
    "        # A reflector is a special rotor that is placed after the rotors. It is used to send the signal back through\n",
    "        # the rotors in the opposite direction. The reflector does also rotate, but it does not have a turnover point.\n",
    "        self.reflector = [24, 17, 20, 7, 16, 18, 11, 3, 15, 23, 13, 6, 14, 10, 12, 8, 4, 1, 5, 25, 2, 22, 21, 9, 0, 19]\n",
    "\n",
    "        # Rotor positions and notch (turnover) points\n",
    "        self.rotor_positions       = copy.deepcopy(rotor_positions)\n",
    "        self.notch_positions       = [16, 4, 21]  # The rotors turn over when they reach these positions (Q, E, V in historical terms)\n",
    "\n",
    "        # Plugboard setup (pairs of letter swaps)\n",
    "        # The plugboard is a simple substitution cipher that swaps pairs of letters before the signal enters the rotors.\n",
    "        # However, they are optional and can be omitted.\n",
    "        self.plugboard = {}\n",
    "        if plugboard_settings:\n",
    "            self.plugboard = copy.deepcopy(plugboard_settings)"
   ]
  },
  {
   "cell_type": "markdown",
   "metadata": {},
   "source": [
    "The plugboard_swap function returns the corresponding letter after the plugboard swap."
   ]
  },
  {
   "cell_type": "code",
   "execution_count": 110,
   "metadata": {},
   "outputs": [],
   "source": [
    "def plugboard_swap(self, letter):\n",
    "    if letter in self.plugboard.keys():\n",
    "        return self.plugboard[letter]\n",
    "    return letter\n",
    "    \n",
    "Enigma.plugboard_swap = plugboard_swap\n"
   ]
  },
  {
   "cell_type": "markdown",
   "metadata": {},
   "source": [
    "This function will be triggered when a keystroke occurs.\n"
   ]
  },
  {
   "cell_type": "code",
   "execution_count": 111,
   "metadata": {},
   "outputs": [],
   "source": [
    "def rotate_rotors(self):\n",
    "    # Rightmost rotor rotates every letter\n",
    "    self.rotor_positions[0] = (self.rotor_positions[0] + 1) % 26\n",
    "    # Middle rotor rotates when right rotor hits its notch\n",
    "    if self.rotor_positions[0] == self.notch_positions[0]:\n",
    "        self.rotor_positions[1] = (self.rotor_positions[1] + 1) % 26\n",
    "    # Left rotor rotates when middle rotor hits its notch\n",
    "    if self.rotor_positions[1] == self.notch_positions[1]:\n",
    "        self.rotor_positions[2] = (self.rotor_positions[2] + 1) % 26\n",
    "        \n",
    "Enigma.rotate_rotors = rotate_rotors"
   ]
  },
  {
   "cell_type": "markdown",
   "metadata": {},
   "source": [
    "The encrypt_letter function serves as a placeholder for the encryption process of the Enigma machine. This function takes a letter as input and returns the corresponding encrypted letter. The key is a number between 0 and 25, representing the shift of the letter within the alphabet.\n",
    "\n",
    "Note: One of the Enigma machine's vulnerabilities was its limited number of possible keys, making it susceptible to brute force attacks."
   ]
  },
  {
   "cell_type": "code",
   "execution_count": 112,
   "metadata": {},
   "outputs": [],
   "source": [
    "def encrypt_letter(self, letter):\n",
    "    # Apply plugboard swaps before going into the rotors\n",
    "    letter = self.plugboard_swap(letter)\n",
    "    # Convert letter to index (0-25 for A-Z)\n",
    "    index = ord(letter) - ord('A')\n",
    "    \n",
    "    # Pass the letter through the rotors from right to left\n",
    "    for i in range(len(self.rotors)):\n",
    "        index = (self.rotors[i][(index + self.rotor_positions[i]) % 26] - self.rotor_positions[i]) % 26\n",
    "    # Reflector transformation\n",
    "    index = self.reflector[index]\n",
    "    # Pass back through the rotors from left to right\n",
    "    for i in range(len(self.rotors) - 1, -1, -1):\n",
    "        index = (self.rotors[i].index((index + self.rotor_positions[i]) % 26) - self.rotor_positions[i]) % 26\n",
    "    # Convert back to letter\n",
    "    letter = chr(index + ord('A'))\n",
    "    # Apply plugboard swaps after going through the rotors\n",
    "    letter = self.plugboard_swap(letter)\n",
    "    return letter\n",
    "    \n",
    "Enigma.encrypt_letter = encrypt_letter"
   ]
  },
  {
   "cell_type": "code",
   "execution_count": 113,
   "metadata": {},
   "outputs": [],
   "source": [
    "def encrypt_message(self, message):\n",
    "    encrypted_message = \"\"\n",
    "    for letter in message:\n",
    "        if letter.isalnum():\n",
    "            self.rotate_rotors()\n",
    "            encrypted_message += self.encrypt_letter(letter.upper())\n",
    "        elif letter == \" \":\n",
    "            encrypted_message += \" \"\n",
    "    return encrypted_message\n",
    "\n",
    "Enigma.encrypt_message = encrypt_message"
   ]
  },
  {
   "cell_type": "markdown",
   "metadata": {},
   "source": [
    "Let's finally have fun with the Enigma machine!"
   ]
  },
  {
   "cell_type": "code",
   "execution_count": 114,
   "metadata": {},
   "outputs": [],
   "source": [
    "# Plugboard example: swapping A with Z, B with Y, etc.\n",
    "plugboard_settings = {'A': 'Z', 'Z': 'A', 'B': 'Y', 'Y': 'B'}\n",
    "\n",
    "# Set initial rotor positions\n",
    "configuration      = [0, 0, 0]  # Starting at A-A-A\n",
    "encrypter_enigma   = Enigma(configuration, plugboard_settings)"
   ]
  },
  {
   "cell_type": "markdown",
   "metadata": {},
   "source": [
    "Play with it!"
   ]
  },
  {
   "cell_type": "code",
   "execution_count": 115,
   "metadata": {},
   "outputs": [
    {
     "name": "stdout",
     "output_type": "stream",
     "text": [
      "The message german wanted to send : HELLO WETTER IS GOOD TODAY\n",
      "The message the codebreakers got  : MFNCA YHPMUB BE PFTL KZNOH\n"
     ]
    }
   ],
   "source": [
    "german_message    = \"HELLO WETTER IS GOOD TODAY\"\n",
    "print(\"The message german wanted to send :\", german_message)\n",
    "encrypted_message = \"\"\n",
    "for word in german_message:\n",
    "    encrypted_message += encrypter_enigma.encrypt_message(word)\n",
    "print(\"The message the codebreakers got  :\", encrypted_message)\n"
   ]
  },
  {
   "cell_type": "markdown",
   "metadata": {},
   "source": [
    "Here, we witness the birth of modern cryptography.\n",
    "\n",
    "First of all, as not everyone knows, it was the Polish who first broke the Enigma code in the 1930s. They managed to decrypt it until the early 1940s when Germany changed the encryption methods and invaded Poland. Before the invasion, the Polish shared their knowledge of the Enigma with the British. The British then built the Bombe machine to break the new Enigma code.\n",
    "\n",
    "The Bombe machine, often considered one of the earliest computers, was developed by Alan Turing, a British mathematician, logician, and computer scientist. Turing is regarded as the father of computer science and artificial intelligence. He played a crucial role in breaking the Enigma code during World War II, significantly aiding the Allied victory. Despite his heroic contributions, Turing was later prosecuted for.."
   ]
  },
  {
   "cell_type": "markdown",
   "metadata": {},
   "source": [
    "But how was the Enigma code broken? Here are the key points:\n",
    "\n",
    "The Enigma machine was originally a commercial product, used by many people. The Germans, however, used a more complex version of the machine. Nevertheless, many, including the Polish, knew how it worked and how it was built. So, contrary to popular belief, the Enigma machine was not a secret.\n",
    "\n",
    "The Enigma machine was configured differently for each day, which made code-breaking more difficult. However, through espionage and other methods, the Allies managed to obtain the daily configurations. This marked the starting point of the code-breaking efforts.\n",
    "\n",
    "Hitler accounted for many things, but he often overlooked the human factor. Enigma operators, for instance, would frequently reuse configurations and send the same messages over and over, without much caution. This lack of care played a significant role in helping the codebreakers.\n",
    "\n",
    "A critical flaw of the Enigma machine was that it never encrypted a letter as itself. This became a crucial point in breaking the code.\n",
    "\n",
    "The starting point for cracking the system was the word “Wetterbericht” (meaning “weather report” in German). The weather report was sent every day at the same time. This predictable pattern provided an essential clue for the codebreakers.\n",
    "\n",
    "Finally, the codebreakers had two key pieces of information: the expected word “Wetter” and the knowledge that its encrypted version could not contain any repetition like \"..XX..\" (where \"X\" is any letter, and \".\" is any other letter). Using this, they began brute-forcing the system, focusing on finding the word “Wetter” within the encrypted messages."
   ]
  },
  {
   "cell_type": "code",
   "execution_count": 116,
   "metadata": {},
   "outputs": [
    {
     "name": "stdout",
     "output_type": "stream",
     "text": [
      "Rotor positions  : [0, 0, 0]\n",
      "Decrypted message: HELLO WETTER IS GOOD TODAY\n"
     ]
    }
   ],
   "source": [
    "#They tried to find the crypted version of \"WETTER\" to find the rotor positions\n",
    "# Turing's big idea is to be able to try every possible rotor position and plugboard setting to find the correct one.\n",
    "def Bombe(encrypted_message):\n",
    "    words = encrypted_message.split(\" \")\n",
    "    for i in range(0,26):\n",
    "        for j in range(0,26):\n",
    "            for k in range(0,26):\n",
    "                for m in range(0,len(words)):\n",
    "                    strr = str(list(words[:m]) + [\"WETTER\"])\n",
    "                    enigma = Enigma([i, j, k], plugboard_settings)\n",
    "                    encrypted_word = enigma.encrypt_message(strr)\n",
    "                    if encrypted_word.split(\" \")[-1] in encrypted_message.split(\" \"):\n",
    "                        enigma = Enigma([i, j, k], plugboard_settings)\n",
    "                        desc = enigma.encrypt_message(encrypted_message)\n",
    "                        return desc, [i, j, k]\n",
    "\n",
    "                \n",
    "    return None, None\n",
    "\n",
    "decrypted_message, rotor_positions = Bombe(encrypted_message)\n",
    "print(\"Rotor positions  :\",  rotor_positions)\n",
    "print(\"Decrypted message:\", decrypted_message)\n"
   ]
  }
 ],
 "metadata": {
  "kernelspec": {
   "display_name": "Python 3",
   "language": "python",
   "name": "python3"
  },
  "language_info": {
   "codemirror_mode": {
    "name": "ipython",
    "version": 3
   },
   "file_extension": ".py",
   "mimetype": "text/x-python",
   "name": "python",
   "nbconvert_exporter": "python",
   "pygments_lexer": "ipython3",
   "version": "3.11.4"
  }
 },
 "nbformat": 4,
 "nbformat_minor": 2
}
